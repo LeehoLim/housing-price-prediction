{
 "cells": [
  {
   "cell_type": "code",
   "execution_count": 93,
   "metadata": {},
   "outputs": [],
   "source": [
    "import pandas as pd\n",
    "import numpy as np\n",
    "import tensorflow as tf\n",
    "import matplotlib.pyplot as pyplot\n",
    "from keras.models import Sequential\n",
    "from keras.initializers import glorot_normal\n",
    "from keras.layers import Dense, Dropout, Flatten, Conv2D, MaxPool2D, Activation\n",
    "from keras.optimizers import RMSprop, Adam\n",
    "from keras.preprocessing.image import ImageDataGenerator\n",
    "from keras.losses import mean_squared_error\n",
    "from sklearn.model_selection import train_test_split\n",
    "from sklearn.metrics import mean_squared_error\n",
    "from sklearn.preprocessing import LabelEncoder\n",
    "number=LabelEncoder()"
   ]
  },
  {
   "cell_type": "markdown",
   "metadata": {},
   "source": [
    "# Read data into CSV and do some data cleaning\n",
    "##### (1) Read in housing CSV data\n",
    "##### (2) Map values of ocean_proximity to integers\n",
    "##### (3) Fill in missing data with mean values from other data points\n",
    "##### (4) Normalize data with z-scores\n"
   ]
  },
  {
   "cell_type": "code",
   "execution_count": 151,
   "metadata": {},
   "outputs": [
    {
     "name": "stdout",
     "output_type": "stream",
     "text": [
      "       longitude  latitude  housing_median_age  total_rooms  total_bedrooms  \\\n",
      "20635  -0.758808  1.801603           -0.289180    -0.444974       -0.390850   \n",
      "20636  -0.818702  1.806285           -0.845373    -0.888682       -0.925117   \n",
      "20637  -0.823693  1.778194           -0.924829    -0.174991       -0.126102   \n",
      "20638  -0.873605  1.778194           -0.845373    -0.355591       -0.307371   \n",
      "20639  -0.833676  1.750104           -1.004285     0.068407        0.186348   \n",
      "\n",
      "       population  households  median_income  median_house_value  \\\n",
      "20635   -0.512579   -0.443438      -1.216099           -1.115777   \n",
      "20636   -0.944382   -1.008396      -0.691576           -1.124443   \n",
      "20637   -0.369528   -0.174037      -1.142566           -0.992722   \n",
      "20638   -0.604415   -0.393743      -1.054557           -1.058583   \n",
      "20639   -0.033976    0.079670      -0.780111           -1.017853   \n",
      "\n",
      "       ocean_proximity  \n",
      "20635        -0.116736  \n",
      "20636        -0.116736  \n",
      "20637        -0.116736  \n",
      "20638        -0.116736  \n",
      "20639        -0.116736  \n"
     ]
    }
   ],
   "source": [
    "housing_data = pd.read_csv(\"./data/housing.csv\")\n",
    "housing_data['ocean_proximity']=number.fit_transform(housing_data['ocean_proximity'].astype('str'))\n",
    "housing_data.fillna(housing_data.mean(), inplace=True)\n",
    "house_value_mean = housing_data[\"median_house_value\"].mean()\n",
    "house_value_sd = housing_data[\"median_house_value\"].std()\n",
    "\n",
    "housing_data = (housing_data - housing_data.mean()) / housing_data.std()\n",
    "\n",
    "print(housing_data.tail())"
   ]
  },
  {
   "cell_type": "code",
   "execution_count": 116,
   "metadata": {},
   "outputs": [],
   "source": [
    "# Features for training\n",
    "features = housing_data.columns\n",
    "features = features.drop(\"median_house_value\")"
   ]
  },
  {
   "cell_type": "code",
   "execution_count": 118,
   "metadata": {},
   "outputs": [],
   "source": [
    "# Split into training and testing data\n",
    "train_portion = 0.8\n",
    "train_rows = int(housing_data.shape[0] * train_portion)\n",
    "shuffled_data = housing_data.sample(frac=1)\n",
    "train_data = shuffled_data[:train_rows]\n",
    "test_data = shuffled_data[train_rows:]"
   ]
  },
  {
   "cell_type": "code",
   "execution_count": 119,
   "metadata": {},
   "outputs": [],
   "source": [
    "# Divide training data and labels\n",
    "train_labels = train_data[\"median_house_value\"]\n",
    "train_data = train_data[features]\n",
    "\n",
    "test_labels = test_data[\"median_house_value\"]\n",
    "test_data = test_data[features]"
   ]
  },
  {
   "cell_type": "code",
   "execution_count": 120,
   "metadata": {},
   "outputs": [
    {
     "name": "stdout",
     "output_type": "stream",
     "text": [
      "997     0.086175\n",
      "3659   -0.221463\n",
      "2658   -1.179905\n",
      "1247   -1.142641\n",
      "9713    0.135570\n",
      "Name: median_house_value, dtype: float64\n",
      "      longitude  latitude  housing_median_age  total_rooms  total_bedrooms  \\\n",
      "997   -1.113182  0.968251           -0.527548     1.328024        0.966281   \n",
      "3659   0.583821 -0.665680            1.299943    -0.762629       -0.851178   \n",
      "2658  -2.211243  2.148053           -1.004285    -0.251081       -0.006847   \n",
      "1247  -1.377715  1.623697           -1.481022    -1.086242       -1.135007   \n",
      "9713  -1.048297  0.486031           -0.368636     0.199502        0.014619   \n",
      "\n",
      "      population  households  median_income  ocean_proximity  \n",
      "997     0.925879    1.073577       0.455532        -0.116736  \n",
      "3659   -0.769542   -0.817461       0.499378        -0.820633  \n",
      "2658   -0.538187   -0.453901      -1.343111        -0.820633  \n",
      "1247   -1.122754   -1.178406      -0.853065        -0.116736  \n",
      "9713    0.045497    0.158137       0.026965        -0.820633  \n"
     ]
    }
   ],
   "source": [
    "print(train_labels.tail())\n",
    "print(train_data.tail())"
   ]
  },
  {
   "cell_type": "code",
   "execution_count": 121,
   "metadata": {},
   "outputs": [],
   "source": [
    "# Split between training and validation set\n",
    "X_train, X_val, Y_train, Y_val = train_test_split(train_data, train_labels, test_size=0.2, random_state=2)"
   ]
  },
  {
   "cell_type": "code",
   "execution_count": 122,
   "metadata": {},
   "outputs": [
    {
     "name": "stdout",
     "output_type": "stream",
     "text": [
      "       longitude  latitude  housing_median_age  total_rooms  total_bedrooms  \\\n",
      "4815    0.638724 -0.745270            0.982119    -0.906101       -0.588815   \n",
      "1302   -1.138138  1.108704           -0.209723     0.333806        0.076633   \n",
      "16337  -0.893570  1.127431           -1.560478    -0.214870       -0.400391   \n",
      "11562   0.788460 -0.881041           -0.527548     0.177958        0.515494   \n",
      "18802  -1.252935  2.344686           -1.163197     0.212337       -0.045008   \n",
      "\n",
      "       population  households  median_income  ocean_proximity  \n",
      "4815    -0.177910   -0.548060      -0.941652        -0.820633  \n",
      "1302     0.336014    0.173830       0.207403        -0.116736  \n",
      "16337   -0.119630   -0.388512       0.609441        -0.116736  \n",
      "11562    0.822565    0.636781      -0.293802        -0.820633  \n",
      "18802    0.019006   -0.014489       0.075022        -0.116736  \n",
      "(13209, 9)\n"
     ]
    }
   ],
   "source": [
    "print(X_train.head())\n",
    "print(X_train.shape)"
   ]
  },
  {
   "cell_type": "code",
   "execution_count": 138,
   "metadata": {},
   "outputs": [],
   "source": [
    "# Model composition. 9 features, use relu activation for positive linear and random initialization with Xavier. 2 hidden layers\n",
    "model = Sequential()\n",
    "model.add(Dense(30, input_dim=9, activation=\"relu\"))\n",
    "model.add(Dense(15, activation=\"relu\"))\n",
    "model.add(Dense(1))\n",
    "model.compile(optimizer='rmsprop', loss='mse')"
   ]
  },
  {
   "cell_type": "code",
   "execution_count": 139,
   "metadata": {},
   "outputs": [
    {
     "name": "stdout",
     "output_type": "stream",
     "text": [
      "Train on 13209 samples, validate on 3303 samples\n",
      "Epoch 1/40\n",
      " - 2s - loss: 0.4025 - val_loss: 0.3349\n",
      "Epoch 2/40\n",
      " - 1s - loss: 0.3072 - val_loss: 0.3040\n",
      "Epoch 3/40\n",
      " - 1s - loss: 0.2859 - val_loss: 0.2856\n",
      "Epoch 4/40\n",
      " - 1s - loss: 0.2752 - val_loss: 0.2798\n",
      "Epoch 5/40\n",
      " - 1s - loss: 0.2689 - val_loss: 0.2719\n",
      "Epoch 6/40\n",
      " - 1s - loss: 0.2633 - val_loss: 0.2677\n",
      "Epoch 7/40\n",
      " - 1s - loss: 0.2591 - val_loss: 0.2636\n",
      "Epoch 8/40\n",
      " - 1s - loss: 0.2559 - val_loss: 0.2584\n",
      "Epoch 9/40\n",
      " - 1s - loss: 0.2515 - val_loss: 0.2626\n",
      "Epoch 10/40\n",
      " - 1s - loss: 0.2494 - val_loss: 0.2587\n",
      "Epoch 11/40\n",
      " - 1s - loss: 0.2468 - val_loss: 0.2536\n",
      "Epoch 12/40\n",
      " - 1s - loss: 0.2451 - val_loss: 0.2566\n",
      "Epoch 13/40\n",
      " - 1s - loss: 0.2428 - val_loss: 0.2550\n",
      "Epoch 14/40\n",
      " - 1s - loss: 0.2399 - val_loss: 0.2511\n",
      "Epoch 15/40\n",
      " - 1s - loss: 0.2382 - val_loss: 0.2521\n",
      "Epoch 16/40\n",
      " - 1s - loss: 0.2377 - val_loss: 0.2489\n",
      "Epoch 17/40\n",
      " - 1s - loss: 0.2348 - val_loss: 0.2480\n",
      "Epoch 18/40\n",
      " - 1s - loss: 0.2353 - val_loss: 0.2514\n",
      "Epoch 19/40\n",
      " - 1s - loss: 0.2334 - val_loss: 0.2467\n",
      "Epoch 20/40\n",
      " - 1s - loss: 0.2318 - val_loss: 0.2471\n",
      "Epoch 21/40\n",
      " - 1s - loss: 0.2309 - val_loss: 0.2540\n",
      "Epoch 22/40\n",
      " - 1s - loss: 0.2296 - val_loss: 0.2452\n",
      "Epoch 23/40\n",
      " - 1s - loss: 0.2287 - val_loss: 0.2427\n",
      "Epoch 24/40\n",
      " - 1s - loss: 0.2275 - val_loss: 0.2426\n",
      "Epoch 25/40\n",
      " - 1s - loss: 0.2267 - val_loss: 0.2445\n",
      "Epoch 26/40\n",
      " - 1s - loss: 0.2250 - val_loss: 0.2498\n",
      "Epoch 27/40\n",
      " - 1s - loss: 0.2233 - val_loss: 0.2395\n",
      "Epoch 28/40\n",
      " - 1s - loss: 0.2228 - val_loss: 0.2355\n",
      "Epoch 29/40\n",
      " - 1s - loss: 0.2219 - val_loss: 0.2407\n",
      "Epoch 30/40\n",
      " - 1s - loss: 0.2208 - val_loss: 0.2413\n",
      "Epoch 31/40\n",
      " - 1s - loss: 0.2213 - val_loss: 0.2323\n",
      "Epoch 32/40\n",
      " - 1s - loss: 0.2194 - val_loss: 0.2426\n",
      "Epoch 33/40\n",
      " - 1s - loss: 0.2197 - val_loss: 0.2375\n",
      "Epoch 34/40\n",
      " - 1s - loss: 0.2174 - val_loss: 0.2418\n",
      "Epoch 35/40\n",
      " - 1s - loss: 0.2173 - val_loss: 0.2455\n",
      "Epoch 36/40\n",
      " - 1s - loss: 0.2172 - val_loss: 0.2310\n",
      "Epoch 37/40\n",
      " - 1s - loss: 0.2157 - val_loss: 0.2485\n",
      "Epoch 38/40\n",
      " - 1s - loss: 0.2160 - val_loss: 0.2342\n",
      "Epoch 39/40\n",
      " - 1s - loss: 0.2145 - val_loss: 0.2450\n",
      "Epoch 40/40\n",
      " - 1s - loss: 0.2143 - val_loss: 0.2330\n"
     ]
    }
   ],
   "source": [
    "history = model.fit(X_train, Y_train, epochs=40, validation_data=(X_val, Y_val), verbose=2)"
   ]
  },
  {
   "cell_type": "code",
   "execution_count": 140,
   "metadata": {},
   "outputs": [
    {
     "data": {
      "image/png": "[encoded data removed]",
      "text/plain": [
       "<Figure size 432x288 with 1 Axes>"
      ]
     },
     "metadata": {
      "needs_background": "light"
     },
     "output_type": "display_data"
    }
   ],
   "source": [
    "pyplot.title('Loss / Mean Squared Error')\n",
    "pyplot.plot(history.history['loss'], label='train')\n",
    "pyplot.plot(history.history['val_loss'], label='test')\n",
    "pyplot.legend()\n",
    "pyplot.show()\n",
    "\n",
    "predict = model.predict(test_data)"
   ]
  },
  {
   "cell_type": "code",
   "execution_count": 152,
   "metadata": {},
   "outputs": [
    {
     "name": "stdout",
     "output_type": "stream",
     "text": [
      "Predictions for test housing prices is: [[122706.12]\n",
      " [125279.59]\n",
      " [177259.89]\n",
      " ...\n",
      " [209436.33]\n",
      " [102102.2 ]\n",
      " [180824.23]]\n"
     ]
    }
   ],
   "source": [
    "predictions = predict*house_value_sd + house_value_mean\n",
    "print(\"Predictions for test housing prices is: {}\".format(predictions))"
   ]
  },
  {
   "cell_type": "code",
   "execution_count": 145,
   "metadata": {},
   "outputs": [
    {
     "name": "stdout",
     "output_type": "stream",
     "text": [
      "Mean squared error between test_labels and predictions is: 0.23008992993239646\n"
     ]
    }
   ],
   "source": [
    "print(\"Mean squared error between test_labels and predictions is: {}\".format(mean_squared_error(test_labels, predict)))"
   ]
  }
 ],
 "metadata": {
  "kernelspec": {
   "display_name": "Python 3",
   "language": "python",
   "name": "python3"
  },
  "language_info": {
   "codemirror_mode": {
    "name": "ipython",
    "version": 3
   },
   "file_extension": ".py",
   "mimetype": "text/x-python",
   "name": "python",
   "nbconvert_exporter": "python",
   "pygments_lexer": "ipython3",
   "version": "3.7.3"
  }
 },
 "nbformat": 4,
 "nbformat_minor": 2
}
